{
 "cells": [
  {
   "cell_type": "code",
   "execution_count": 18,
   "id": "5a8513b4",
   "metadata": {},
   "outputs": [],
   "source": [
    "# Tic-Tac-Toe Game in Python\n",
    "def print_board(board):\n",
    "    \"\"\"Function to print the Tic-Tac-Toe board\"\"\"\n",
    "    for row in board:\n",
    "        print(\" | \".join(row))\n",
    "        print(\"-\" * 9)"
   ]
  },
  {
   "cell_type": "code",
   "execution_count": 19,
   "id": "e298ca9d",
   "metadata": {},
   "outputs": [],
   "source": [
    "def check_winner(board, player):\n",
    "    \"\"\"Function to check if a player has won\"\"\"\n",
    "    # Check rows, columns, and diagonals\n",
    "    for row in board:\n",
    "        if all(cell == player for cell in row):\n",
    "            return True\n",
    "    \n",
    "    for col in range(3):\n",
    "        if all(board[row][col] == player for row in range(3)):\n",
    "            return True\n",
    "    \n",
    "    if all(board[i][i] == player for i in range(3)) or all(board[i][2-i] == player for i in range(3)):\n",
    "        return True\n",
    "    \n",
    "    return False"
   ]
  },
  {
   "cell_type": "code",
   "execution_count": null,
   "id": "4d53aa5f",
   "metadata": {
    "scrolled": true
   },
   "outputs": [
    {
     "name": "stdout",
     "output_type": "stream",
     "text": [
      "Welcome to Tic-Tac-Toe!\n",
      "  |   |  \n",
      "---------\n",
      "  |   |  \n",
      "---------\n",
      "  |   |  \n",
      "---------\n",
      "Player X's turn\n"
     ]
    }
   ],
   "source": [
    "def is_full(board):\n",
    "    \"\"\"Function to check if the board is full\"\"\"\n",
    "    return all(cell != \" \" for row in board for cell in row)\n",
    "\n",
    "def tic_tac_toe():\n",
    "    \"\"\"Main function to play Tic-Tac-Toe\"\"\"\n",
    "    board = [[\" \" for _ in range(3)] for _ in range(3)]\n",
    "    players = [\"X\", \"O\"]\n",
    "    turn = 0\n",
    "\n",
    "    print(\"Welcome to Tic-Tac-Toe!\")\n",
    "    print_board(board)\n",
    "\n",
    "    while True:\n",
    "        player = players[turn % 2]\n",
    "        print(f\"Player {player}'s turn\")\n",
    "        \n",
    "        try:\n",
    "            row, col = map(int, input(\"Enter row and column (0-2, space-separated): \").split())\n",
    "            if board[row][col] != \" \":\n",
    "                print(\"Cell already occupied! Try again.\")\n",
    "                continue\n",
    "        except (ValueError, IndexError):\n",
    "            print(\"Invalid input! Enter numbers between 0 and 2.\")\n",
    "            continue\n",
    "        \n",
    "        board[row][col] = player\n",
    "        print_board(board)   \n",
    "        if check_winner(board, player):\n",
    "            print(f\"🎉 Player {player} wins! 🎉\")\n",
    "            break\n",
    "        \n",
    "        if is_full(board):\n",
    "            print(\"It's a draw! 🤝\")\n",
    "            break\n",
    "        \n",
    "        turn += 1\n",
    "\n",
    "# Run the game\n",
    "tic_tac_toe()"
   ]
  },
  {
   "cell_type": "code",
   "execution_count": null,
   "id": "7034712d",
   "metadata": {},
   "outputs": [],
   "source": []
  }
 ],
 "metadata": {
  "kernelspec": {
   "display_name": "Python 3 (ipykernel)",
   "language": "python",
   "name": "python3"
  },
  "language_info": {
   "codemirror_mode": {
    "name": "ipython",
    "version": 3
   },
   "file_extension": ".py",
   "mimetype": "text/x-python",
   "name": "python",
   "nbconvert_exporter": "python",
   "pygments_lexer": "ipython3",
   "version": "3.11.5"
  }
 },
 "nbformat": 4,
 "nbformat_minor": 5
}
